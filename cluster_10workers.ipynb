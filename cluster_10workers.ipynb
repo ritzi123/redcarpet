from dask.distributed import Client, LocalCluster
cluster=LocalCluster(n_workers=10)
cc=Client(cluster)
