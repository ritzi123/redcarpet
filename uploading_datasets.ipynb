from dask.distributed import Client, LocalCluster
import dask.dataframe as dd
cluster=LocalCluster(n_workers=10)
cc=Client(cluster)
df = dd.read_csv('taxi+_zone_lookup.csv')
df1=dd.read_parquet('gcs://anaconda-public-data/nyc-taxi/nyc.parquet/part.0.parquet')
